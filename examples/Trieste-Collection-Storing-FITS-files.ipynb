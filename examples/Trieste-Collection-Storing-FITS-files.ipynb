{
 "cells": [
  {
   "cell_type": "markdown",
   "metadata": {},
   "source": [
    "This example demonstrates the process of saving multiple Trieste `Collection` objects to a single file. More specifically, we will transform three multi-extension FITS files into `Collection` objects, retaining the FITS header data. The three collections will then be stored into a single Trieste file. The file will then be read and examined. Finally, we show how to convert a `Collection` back into a FITS `HDUList`."
   ]
  },
  {
   "cell_type": "code",
   "execution_count": 1,
   "metadata": {},
   "outputs": [
    {
     "name": "stdout",
     "output_type": "stream",
     "text": [
      "Populating the interactive namespace from numpy and matplotlib\n"
     ]
    }
   ],
   "source": [
    "%pylab notebook"
   ]
  },
  {
   "cell_type": "code",
   "execution_count": 2,
   "metadata": {},
   "outputs": [],
   "source": [
    "import trieste as tr\n",
    "from trieste import utils\n",
    "import astropy.io.fits as fits"
   ]
  },
  {
   "cell_type": "markdown",
   "metadata": {},
   "source": [
    "Let's load three multi-extension FITS files and put them into a Trieste file..."
   ]
  },
  {
   "cell_type": "code",
   "execution_count": 3,
   "metadata": {},
   "outputs": [],
   "source": [
    "one = utils.fits_to_collection(\"one.fits\")\n",
    "two = utils.fits_to_collection(\"two.fits\")\n",
    "three = utils.fits_to_collection(\"three.fits\")"
   ]
  },
  {
   "cell_type": "markdown",
   "metadata": {},
   "source": [
    "At this point, we have 3 Trieste `Collection` objects (`one`, `two`, and `three`). Verify the type:"
   ]
  },
  {
   "cell_type": "code",
   "execution_count": 4,
   "metadata": {},
   "outputs": [
    {
     "data": {
      "text/plain": [
       "trieste.core.Collection"
      ]
     },
     "execution_count": 4,
     "metadata": {},
     "output_type": "execute_result"
    }
   ],
   "source": [
    "type(one)"
   ]
  },
  {
   "cell_type": "markdown",
   "metadata": {},
   "source": [
    "Alternatively,"
   ]
  },
  {
   "cell_type": "code",
   "execution_count": 5,
   "metadata": {},
   "outputs": [
    {
     "data": {
      "text/plain": [
       "<two.fits: a Collection of 3 2-D Arrays>"
      ]
     },
     "execution_count": 5,
     "metadata": {},
     "output_type": "execute_result"
    }
   ],
   "source": [
    "two"
   ]
  },
  {
   "cell_type": "markdown",
   "metadata": {},
   "source": [
    "Create a documentation string / README for the file that we are going to create:"
   ]
  },
  {
   "cell_type": "code",
   "execution_count": 6,
   "metadata": {},
   "outputs": [],
   "source": [
    "readme = \"An example of storing several multi-extension FITS files within a Trieste file.\""
   ]
  },
  {
   "cell_type": "markdown",
   "metadata": {},
   "source": [
    "Create the file:"
   ]
  },
  {
   "cell_type": "code",
   "execution_count": 7,
   "metadata": {},
   "outputs": [],
   "source": [
    "tr.save(\"group\", {'doc': readme}, one, two, three)"
   ]
  },
  {
   "cell_type": "markdown",
   "metadata": {},
   "source": [
    "Now, let's see what is in the directory. Note the file sizes:"
   ]
  },
  {
   "cell_type": "code",
   "execution_count": 8,
   "metadata": {},
   "outputs": [
    {
     "name": "stdout",
     "output_type": "stream",
     "text": [
      " 14M demo.npz   1.2M jellies.npz  1.2M three.fits\r\n",
      "812K group.npz  392K one.fits     720K two.fits\r\n"
     ]
    }
   ],
   "source": [
    "ls -sh *.fits *.npz"
   ]
  },
  {
   "cell_type": "markdown",
   "metadata": {},
   "source": [
    "The `group.npz` file is considerably smaller than the three FITS files that were used to create it, because it is compressed. Let's try reading the file to see what we put in there..."
   ]
  },
  {
   "cell_type": "code",
   "execution_count": 9,
   "metadata": {},
   "outputs": [],
   "source": [
    "group = tr.load(\"group.npz\")"
   ]
  },
  {
   "cell_type": "code",
   "execution_count": 10,
   "metadata": {},
   "outputs": [
    {
     "data": {
      "text/plain": [
       "<group.npz: a Trieste file>"
      ]
     },
     "execution_count": 10,
     "metadata": {},
     "output_type": "execute_result"
    }
   ],
   "source": [
    "group"
   ]
  },
  {
   "cell_type": "markdown",
   "metadata": {},
   "source": [
    "Let's take a look at some of the Trieste file's properties..."
   ]
  },
  {
   "cell_type": "code",
   "execution_count": 11,
   "metadata": {},
   "outputs": [
    {
     "data": {
      "text/plain": [
       "'An example of storing several multi-extension FITS files within a Trieste file.'"
      ]
     },
     "execution_count": 11,
     "metadata": {},
     "output_type": "execute_result"
    }
   ],
   "source": [
    "group.readme"
   ]
  },
  {
   "cell_type": "code",
   "execution_count": 12,
   "metadata": {},
   "outputs": [
    {
     "data": {
      "text/plain": [
       "'group.npz'"
      ]
     },
     "execution_count": 12,
     "metadata": {},
     "output_type": "execute_result"
    }
   ],
   "source": [
    "group.name"
   ]
  },
  {
   "cell_type": "code",
   "execution_count": 13,
   "metadata": {},
   "outputs": [
    {
     "name": "stdout",
     "output_type": "stream",
     "text": [
      "\n",
      " Index      Name               Type\n",
      " -----------------------------------------\n",
      "     0 :    one.fits           2-D Array Collection\n",
      "     1 :    two.fits           2-D Array Collection\n",
      "     2 :    three.fits         2-D Array Collection\n",
      " -----------------------------------------\n"
     ]
    }
   ],
   "source": [
    "group.print_toc()"
   ]
  },
  {
   "cell_type": "markdown",
   "metadata": {},
   "source": [
    "There are a few ways to access the contents: \n",
    "\n",
    "1. using the name of an object within the file.\n",
    "\n",
    "2. indexing into the file.\n",
    "\n",
    "3. iterating through the contents."
   ]
  },
  {
   "cell_type": "code",
   "execution_count": 14,
   "metadata": {},
   "outputs": [
    {
     "data": {
      "text/plain": [
       "<one.fits: a Collection of 3 2-D Arrays>"
      ]
     },
     "execution_count": 14,
     "metadata": {},
     "output_type": "execute_result"
    }
   ],
   "source": [
    "group['one.fits']"
   ]
  },
  {
   "cell_type": "code",
   "execution_count": 15,
   "metadata": {},
   "outputs": [
    {
     "data": {
      "text/plain": [
       "<one.fits: a Collection of 3 2-D Arrays>"
      ]
     },
     "execution_count": 15,
     "metadata": {},
     "output_type": "execute_result"
    }
   ],
   "source": [
    "group[0]"
   ]
  },
  {
   "cell_type": "code",
   "execution_count": 16,
   "metadata": {},
   "outputs": [
    {
     "name": "stdout",
     "output_type": "stream",
     "text": [
      "one.fits\n",
      "two.fits\n",
      "three.fits\n"
     ]
    }
   ],
   "source": [
    "for ob in group:\n",
    "    print(ob.name)"
   ]
  },
  {
   "cell_type": "markdown",
   "metadata": {},
   "source": [
    "The history that led to the creation of the file:"
   ]
  },
  {
   "cell_type": "code",
   "execution_count": 17,
   "metadata": {},
   "outputs": [
    {
     "name": "stdout",
     "output_type": "stream",
     "text": [
      "%pylab notebook\n",
      "import trieste as tr\n",
      "from trieste import utils\n",
      "import astropy.io.fits as fits\n",
      "one = utils.fits_to_collection(\"one.fits\")\n",
      "two = utils.fits_to_collection(\"two.fits\")\n",
      "three = utils.fits_to_collection(\"three.fits\")\n",
      "type(one)\n",
      "two\n",
      "readme = \"An example of storing several multi-extension FITS files within a Trieste file.\"\n",
      "tr.save(\"group\", {'doc': readme}, one, two, three)\n"
     ]
    }
   ],
   "source": [
    "group.print_history()"
   ]
  },
  {
   "cell_type": "markdown",
   "metadata": {},
   "source": [
    "Now let's look an one of the individual objects within the file:"
   ]
  },
  {
   "cell_type": "code",
   "execution_count": 18,
   "metadata": {},
   "outputs": [],
   "source": [
    "a = group[0]"
   ]
  },
  {
   "cell_type": "code",
   "execution_count": 19,
   "metadata": {},
   "outputs": [
    {
     "data": {
      "text/plain": [
       "<one.fits: a Collection of 3 2-D Arrays>"
      ]
     },
     "execution_count": 19,
     "metadata": {},
     "output_type": "execute_result"
    }
   ],
   "source": [
    "a"
   ]
  },
  {
   "cell_type": "code",
   "execution_count": 20,
   "metadata": {},
   "outputs": [
    {
     "data": {
      "text/plain": [
       "['SCI', 'VAR', 'FLAG']"
      ]
     },
     "execution_count": 20,
     "metadata": {},
     "output_type": "execute_result"
    }
   ],
   "source": [
    "a.toc"
   ]
  },
  {
   "cell_type": "code",
   "execution_count": 21,
   "metadata": {},
   "outputs": [
    {
     "data": {
      "text/plain": [
       "<SCI: a Trieste 2-D Array>"
      ]
     },
     "execution_count": 21,
     "metadata": {},
     "output_type": "execute_result"
    }
   ],
   "source": [
    "a[0]"
   ]
  },
  {
   "cell_type": "markdown",
   "metadata": {},
   "source": [
    "This array has a name:"
   ]
  },
  {
   "cell_type": "code",
   "execution_count": 22,
   "metadata": {},
   "outputs": [
    {
     "data": {
      "text/plain": [
       "'SCI'"
      ]
     },
     "execution_count": 22,
     "metadata": {},
     "output_type": "execute_result"
    }
   ],
   "source": [
    "a[0].name\n"
   ]
  },
  {
   "cell_type": "markdown",
   "metadata": {},
   "source": [
    "Alternatively, the same array can be fetched from the `Collection` by name, instead of by index:"
   ]
  },
  {
   "cell_type": "code",
   "execution_count": 23,
   "metadata": {},
   "outputs": [
    {
     "data": {
      "text/plain": [
       "<SCI: a Trieste 2-D Array>"
      ]
     },
     "execution_count": 23,
     "metadata": {},
     "output_type": "execute_result"
    }
   ],
   "source": [
    "a['SCI']"
   ]
  },
  {
   "cell_type": "code",
   "execution_count": 24,
   "metadata": {},
   "outputs": [],
   "source": [
    "A = a['SCI']"
   ]
  },
  {
   "cell_type": "markdown",
   "metadata": {},
   "source": [
    "The `Array` object, `A` contains a NumPy array and metadata"
   ]
  },
  {
   "cell_type": "code",
   "execution_count": 25,
   "metadata": {},
   "outputs": [
    {
     "data": {
      "text/plain": [
       "array([[ 1113.78663585,  1072.96848847,  1135.86725642, ...,\n",
       "        10931.24788636, 10909.50885188, 10939.98298516],\n",
       "       [ 2456.3166538 ,  2537.29667555,  2489.02917282, ...,\n",
       "        15052.88252041, 15050.28868237, 15059.59972138],\n",
       "       [ 4674.18464344,  4674.0225045 ,  4669.2114884 , ...,\n",
       "        19752.38456096, 19808.02734916, 19808.27348673],\n",
       "       ...,\n",
       "       [13214.34421885, 13218.61591554, 13268.54431093, ...,\n",
       "        29405.67156818, 29446.94280608, 29492.03461276],\n",
       "       [ 8030.78131967,  8075.84368949,  8068.49711793, ...,\n",
       "        22647.89206072, 22734.0741067 , 22746.28615521],\n",
       "       [ 4613.56067878,  4592.07317175,  4567.12868135, ...,\n",
       "        17071.83782726, 17088.14510831, 17083.41126699]])"
      ]
     },
     "execution_count": 25,
     "metadata": {},
     "output_type": "execute_result"
    }
   ],
   "source": [
    "A.data"
   ]
  },
  {
   "cell_type": "markdown",
   "metadata": {},
   "source": [
    "The data looks like this:"
   ]
  },
  {
   "cell_type": "code",
   "execution_count": 26,
   "metadata": {},
   "outputs": [
    {
     "data": {
      "application/javascript": [
       "/* Put everything inside the global mpl namespace */\n",
       "window.mpl = {};\n",
       "\n",
       "\n",
       "mpl.get_websocket_type = function() {\n",
       "    if (typeof(WebSocket) !== 'undefined') {\n",
       "        return WebSocket;\n",
       "    } else if (typeof(MozWebSocket) !== 'undefined') {\n",
       "        return MozWebSocket;\n",
       "    } else {\n",
       "        alert('Your browser does not have WebSocket support.' +\n",
       "              'Please try Chrome, Safari or Firefox ≥ 6. ' +\n",
       "              'Firefox 4 and 5 are also supported but you ' +\n",
       "              'have to enable WebSockets in about:config.');\n",
       "    };\n",
       "}\n",
       "\n",
       "mpl.figure = function(figure_id, websocket, ondownload, parent_element) {\n",
       "    this.id = figure_id;\n",
       "\n",
       "    this.ws = websocket;\n",
       "\n",
       "    this.supports_binary = (this.ws.binaryType != undefined);\n",
       "\n",
       "    if (!this.supports_binary) {\n",
       "        var warnings = document.getElementById(\"mpl-warnings\");\n",
       "        if (warnings) {\n",
       "            warnings.style.display = 'block';\n",
       "            warnings.textContent = (\n",
       "                \"This browser does not support binary websocket messages. \" +\n",
       "                    \"Performance may be slow.\");\n",
       "        }\n",
       "    }\n",
       "\n",
       "    this.imageObj = new Image();\n",
       "\n",
       "    this.context = undefined;\n",
       "    this.message = undefined;\n",
       "    this.canvas = undefined;\n",
       "    this.rubberband_canvas = undefined;\n",
       "    this.rubberband_context = undefined;\n",
       "    this.format_dropdown = undefined;\n",
       "\n",
       "    this.image_mode = 'full';\n",
       "\n",
       "    this.root = $('<div/>');\n",
       "    this._root_extra_style(this.root)\n",
       "    this.root.attr('style', 'display: inline-block');\n",
       "\n",
       "    $(parent_element).append(this.root);\n",
       "\n",
       "    this._init_header(this);\n",
       "    this._init_canvas(this);\n",
       "    this._init_toolbar(this);\n",
       "\n",
       "    var fig = this;\n",
       "\n",
       "    this.waiting = false;\n",
       "\n",
       "    this.ws.onopen =  function () {\n",
       "            fig.send_message(\"supports_binary\", {value: fig.supports_binary});\n",
       "            fig.send_message(\"send_image_mode\", {});\n",
       "            if (mpl.ratio != 1) {\n",
       "                fig.send_message(\"set_dpi_ratio\", {'dpi_ratio': mpl.ratio});\n",
       "            }\n",
       "            fig.send_message(\"refresh\", {});\n",
       "        }\n",
       "\n",
       "    this.imageObj.onload = function() {\n",
       "            if (fig.image_mode == 'full') {\n",
       "                // Full images could contain transparency (where diff images\n",
       "                // almost always do), so we need to clear the canvas so that\n",
       "                // there is no ghosting.\n",
       "                fig.context.clearRect(0, 0, fig.canvas.width, fig.canvas.height);\n",
       "            }\n",
       "            fig.context.drawImage(fig.imageObj, 0, 0);\n",
       "        };\n",
       "\n",
       "    this.imageObj.onunload = function() {\n",
       "        fig.ws.close();\n",
       "    }\n",
       "\n",
       "    this.ws.onmessage = this._make_on_message_function(this);\n",
       "\n",
       "    this.ondownload = ondownload;\n",
       "}\n",
       "\n",
       "mpl.figure.prototype._init_header = function() {\n",
       "    var titlebar = $(\n",
       "        '<div class=\"ui-dialog-titlebar ui-widget-header ui-corner-all ' +\n",
       "        'ui-helper-clearfix\"/>');\n",
       "    var titletext = $(\n",
       "        '<div class=\"ui-dialog-title\" style=\"width: 100%; ' +\n",
       "        'text-align: center; padding: 3px;\"/>');\n",
       "    titlebar.append(titletext)\n",
       "    this.root.append(titlebar);\n",
       "    this.header = titletext[0];\n",
       "}\n",
       "\n",
       "\n",
       "\n",
       "mpl.figure.prototype._canvas_extra_style = function(canvas_div) {\n",
       "\n",
       "}\n",
       "\n",
       "\n",
       "mpl.figure.prototype._root_extra_style = function(canvas_div) {\n",
       "\n",
       "}\n",
       "\n",
       "mpl.figure.prototype._init_canvas = function() {\n",
       "    var fig = this;\n",
       "\n",
       "    var canvas_div = $('<div/>');\n",
       "\n",
       "    canvas_div.attr('style', 'position: relative; clear: both; outline: 0');\n",
       "\n",
       "    function canvas_keyboard_event(event) {\n",
       "        return fig.key_event(event, event['data']);\n",
       "    }\n",
       "\n",
       "    canvas_div.keydown('key_press', canvas_keyboard_event);\n",
       "    canvas_div.keyup('key_release', canvas_keyboard_event);\n",
       "    this.canvas_div = canvas_div\n",
       "    this._canvas_extra_style(canvas_div)\n",
       "    this.root.append(canvas_div);\n",
       "\n",
       "    var canvas = $('<canvas/>');\n",
       "    canvas.addClass('mpl-canvas');\n",
       "    canvas.attr('style', \"left: 0; top: 0; z-index: 0; outline: 0\")\n",
       "\n",
       "    this.canvas = canvas[0];\n",
       "    this.context = canvas[0].getContext(\"2d\");\n",
       "\n",
       "    var backingStore = this.context.backingStorePixelRatio ||\n",
       "\tthis.context.webkitBackingStorePixelRatio ||\n",
       "\tthis.context.mozBackingStorePixelRatio ||\n",
       "\tthis.context.msBackingStorePixelRatio ||\n",
       "\tthis.context.oBackingStorePixelRatio ||\n",
       "\tthis.context.backingStorePixelRatio || 1;\n",
       "\n",
       "    mpl.ratio = (window.devicePixelRatio || 1) / backingStore;\n",
       "\n",
       "    var rubberband = $('<canvas/>');\n",
       "    rubberband.attr('style', \"position: absolute; left: 0; top: 0; z-index: 1;\")\n",
       "\n",
       "    var pass_mouse_events = true;\n",
       "\n",
       "    canvas_div.resizable({\n",
       "        start: function(event, ui) {\n",
       "            pass_mouse_events = false;\n",
       "        },\n",
       "        resize: function(event, ui) {\n",
       "            fig.request_resize(ui.size.width, ui.size.height);\n",
       "        },\n",
       "        stop: function(event, ui) {\n",
       "            pass_mouse_events = true;\n",
       "            fig.request_resize(ui.size.width, ui.size.height);\n",
       "        },\n",
       "    });\n",
       "\n",
       "    function mouse_event_fn(event) {\n",
       "        if (pass_mouse_events)\n",
       "            return fig.mouse_event(event, event['data']);\n",
       "    }\n",
       "\n",
       "    rubberband.mousedown('button_press', mouse_event_fn);\n",
       "    rubberband.mouseup('button_release', mouse_event_fn);\n",
       "    // Throttle sequential mouse events to 1 every 20ms.\n",
       "    rubberband.mousemove('motion_notify', mouse_event_fn);\n",
       "\n",
       "    rubberband.mouseenter('figure_enter', mouse_event_fn);\n",
       "    rubberband.mouseleave('figure_leave', mouse_event_fn);\n",
       "\n",
       "    canvas_div.on(\"wheel\", function (event) {\n",
       "        event = event.originalEvent;\n",
       "        event['data'] = 'scroll'\n",
       "        if (event.deltaY < 0) {\n",
       "            event.step = 1;\n",
       "        } else {\n",
       "            event.step = -1;\n",
       "        }\n",
       "        mouse_event_fn(event);\n",
       "    });\n",
       "\n",
       "    canvas_div.append(canvas);\n",
       "    canvas_div.append(rubberband);\n",
       "\n",
       "    this.rubberband = rubberband;\n",
       "    this.rubberband_canvas = rubberband[0];\n",
       "    this.rubberband_context = rubberband[0].getContext(\"2d\");\n",
       "    this.rubberband_context.strokeStyle = \"#000000\";\n",
       "\n",
       "    this._resize_canvas = function(width, height) {\n",
       "        // Keep the size of the canvas, canvas container, and rubber band\n",
       "        // canvas in synch.\n",
       "        canvas_div.css('width', width)\n",
       "        canvas_div.css('height', height)\n",
       "\n",
       "        canvas.attr('width', width * mpl.ratio);\n",
       "        canvas.attr('height', height * mpl.ratio);\n",
       "        canvas.attr('style', 'width: ' + width + 'px; height: ' + height + 'px;');\n",
       "\n",
       "        rubberband.attr('width', width);\n",
       "        rubberband.attr('height', height);\n",
       "    }\n",
       "\n",
       "    // Set the figure to an initial 600x600px, this will subsequently be updated\n",
       "    // upon first draw.\n",
       "    this._resize_canvas(600, 600);\n",
       "\n",
       "    // Disable right mouse context menu.\n",
       "    $(this.rubberband_canvas).bind(\"contextmenu\",function(e){\n",
       "        return false;\n",
       "    });\n",
       "\n",
       "    function set_focus () {\n",
       "        canvas.focus();\n",
       "        canvas_div.focus();\n",
       "    }\n",
       "\n",
       "    window.setTimeout(set_focus, 100);\n",
       "}\n",
       "\n",
       "mpl.figure.prototype._init_toolbar = function() {\n",
       "    var fig = this;\n",
       "\n",
       "    var nav_element = $('<div/>')\n",
       "    nav_element.attr('style', 'width: 100%');\n",
       "    this.root.append(nav_element);\n",
       "\n",
       "    // Define a callback function for later on.\n",
       "    function toolbar_event(event) {\n",
       "        return fig.toolbar_button_onclick(event['data']);\n",
       "    }\n",
       "    function toolbar_mouse_event(event) {\n",
       "        return fig.toolbar_button_onmouseover(event['data']);\n",
       "    }\n",
       "\n",
       "    for(var toolbar_ind in mpl.toolbar_items) {\n",
       "        var name = mpl.toolbar_items[toolbar_ind][0];\n",
       "        var tooltip = mpl.toolbar_items[toolbar_ind][1];\n",
       "        var image = mpl.toolbar_items[toolbar_ind][2];\n",
       "        var method_name = mpl.toolbar_items[toolbar_ind][3];\n",
       "\n",
       "        if (!name) {\n",
       "            // put a spacer in here.\n",
       "            continue;\n",
       "        }\n",
       "        var button = $('<button/>');\n",
       "        button.addClass('ui-button ui-widget ui-state-default ui-corner-all ' +\n",
       "                        'ui-button-icon-only');\n",
       "        button.attr('role', 'button');\n",
       "        button.attr('aria-disabled', 'false');\n",
       "        button.click(method_name, toolbar_event);\n",
       "        button.mouseover(tooltip, toolbar_mouse_event);\n",
       "\n",
       "        var icon_img = $('<span/>');\n",
       "        icon_img.addClass('ui-button-icon-primary ui-icon');\n",
       "        icon_img.addClass(image);\n",
       "        icon_img.addClass('ui-corner-all');\n",
       "\n",
       "        var tooltip_span = $('<span/>');\n",
       "        tooltip_span.addClass('ui-button-text');\n",
       "        tooltip_span.html(tooltip);\n",
       "\n",
       "        button.append(icon_img);\n",
       "        button.append(tooltip_span);\n",
       "\n",
       "        nav_element.append(button);\n",
       "    }\n",
       "\n",
       "    var fmt_picker_span = $('<span/>');\n",
       "\n",
       "    var fmt_picker = $('<select/>');\n",
       "    fmt_picker.addClass('mpl-toolbar-option ui-widget ui-widget-content');\n",
       "    fmt_picker_span.append(fmt_picker);\n",
       "    nav_element.append(fmt_picker_span);\n",
       "    this.format_dropdown = fmt_picker[0];\n",
       "\n",
       "    for (var ind in mpl.extensions) {\n",
       "        var fmt = mpl.extensions[ind];\n",
       "        var option = $(\n",
       "            '<option/>', {selected: fmt === mpl.default_extension}).html(fmt);\n",
       "        fmt_picker.append(option)\n",
       "    }\n",
       "\n",
       "    // Add hover states to the ui-buttons\n",
       "    $( \".ui-button\" ).hover(\n",
       "        function() { $(this).addClass(\"ui-state-hover\");},\n",
       "        function() { $(this).removeClass(\"ui-state-hover\");}\n",
       "    );\n",
       "\n",
       "    var status_bar = $('<span class=\"mpl-message\"/>');\n",
       "    nav_element.append(status_bar);\n",
       "    this.message = status_bar[0];\n",
       "}\n",
       "\n",
       "mpl.figure.prototype.request_resize = function(x_pixels, y_pixels) {\n",
       "    // Request matplotlib to resize the figure. Matplotlib will then trigger a resize in the client,\n",
       "    // which will in turn request a refresh of the image.\n",
       "    this.send_message('resize', {'width': x_pixels, 'height': y_pixels});\n",
       "}\n",
       "\n",
       "mpl.figure.prototype.send_message = function(type, properties) {\n",
       "    properties['type'] = type;\n",
       "    properties['figure_id'] = this.id;\n",
       "    this.ws.send(JSON.stringify(properties));\n",
       "}\n",
       "\n",
       "mpl.figure.prototype.send_draw_message = function() {\n",
       "    if (!this.waiting) {\n",
       "        this.waiting = true;\n",
       "        this.ws.send(JSON.stringify({type: \"draw\", figure_id: this.id}));\n",
       "    }\n",
       "}\n",
       "\n",
       "\n",
       "mpl.figure.prototype.handle_save = function(fig, msg) {\n",
       "    var format_dropdown = fig.format_dropdown;\n",
       "    var format = format_dropdown.options[format_dropdown.selectedIndex].value;\n",
       "    fig.ondownload(fig, format);\n",
       "}\n",
       "\n",
       "\n",
       "mpl.figure.prototype.handle_resize = function(fig, msg) {\n",
       "    var size = msg['size'];\n",
       "    if (size[0] != fig.canvas.width || size[1] != fig.canvas.height) {\n",
       "        fig._resize_canvas(size[0], size[1]);\n",
       "        fig.send_message(\"refresh\", {});\n",
       "    };\n",
       "}\n",
       "\n",
       "mpl.figure.prototype.handle_rubberband = function(fig, msg) {\n",
       "    var x0 = msg['x0'] / mpl.ratio;\n",
       "    var y0 = (fig.canvas.height - msg['y0']) / mpl.ratio;\n",
       "    var x1 = msg['x1'] / mpl.ratio;\n",
       "    var y1 = (fig.canvas.height - msg['y1']) / mpl.ratio;\n",
       "    x0 = Math.floor(x0) + 0.5;\n",
       "    y0 = Math.floor(y0) + 0.5;\n",
       "    x1 = Math.floor(x1) + 0.5;\n",
       "    y1 = Math.floor(y1) + 0.5;\n",
       "    var min_x = Math.min(x0, x1);\n",
       "    var min_y = Math.min(y0, y1);\n",
       "    var width = Math.abs(x1 - x0);\n",
       "    var height = Math.abs(y1 - y0);\n",
       "\n",
       "    fig.rubberband_context.clearRect(\n",
       "        0, 0, fig.canvas.width, fig.canvas.height);\n",
       "\n",
       "    fig.rubberband_context.strokeRect(min_x, min_y, width, height);\n",
       "}\n",
       "\n",
       "mpl.figure.prototype.handle_figure_label = function(fig, msg) {\n",
       "    // Updates the figure title.\n",
       "    fig.header.textContent = msg['label'];\n",
       "}\n",
       "\n",
       "mpl.figure.prototype.handle_cursor = function(fig, msg) {\n",
       "    var cursor = msg['cursor'];\n",
       "    switch(cursor)\n",
       "    {\n",
       "    case 0:\n",
       "        cursor = 'pointer';\n",
       "        break;\n",
       "    case 1:\n",
       "        cursor = 'default';\n",
       "        break;\n",
       "    case 2:\n",
       "        cursor = 'crosshair';\n",
       "        break;\n",
       "    case 3:\n",
       "        cursor = 'move';\n",
       "        break;\n",
       "    }\n",
       "    fig.rubberband_canvas.style.cursor = cursor;\n",
       "}\n",
       "\n",
       "mpl.figure.prototype.handle_message = function(fig, msg) {\n",
       "    fig.message.textContent = msg['message'];\n",
       "}\n",
       "\n",
       "mpl.figure.prototype.handle_draw = function(fig, msg) {\n",
       "    // Request the server to send over a new figure.\n",
       "    fig.send_draw_message();\n",
       "}\n",
       "\n",
       "mpl.figure.prototype.handle_image_mode = function(fig, msg) {\n",
       "    fig.image_mode = msg['mode'];\n",
       "}\n",
       "\n",
       "mpl.figure.prototype.updated_canvas_event = function() {\n",
       "    // Called whenever the canvas gets updated.\n",
       "    this.send_message(\"ack\", {});\n",
       "}\n",
       "\n",
       "// A function to construct a web socket function for onmessage handling.\n",
       "// Called in the figure constructor.\n",
       "mpl.figure.prototype._make_on_message_function = function(fig) {\n",
       "    return function socket_on_message(evt) {\n",
       "        if (evt.data instanceof Blob) {\n",
       "            /* FIXME: We get \"Resource interpreted as Image but\n",
       "             * transferred with MIME type text/plain:\" errors on\n",
       "             * Chrome.  But how to set the MIME type?  It doesn't seem\n",
       "             * to be part of the websocket stream */\n",
       "            evt.data.type = \"image/png\";\n",
       "\n",
       "            /* Free the memory for the previous frames */\n",
       "            if (fig.imageObj.src) {\n",
       "                (window.URL || window.webkitURL).revokeObjectURL(\n",
       "                    fig.imageObj.src);\n",
       "            }\n",
       "\n",
       "            fig.imageObj.src = (window.URL || window.webkitURL).createObjectURL(\n",
       "                evt.data);\n",
       "            fig.updated_canvas_event();\n",
       "            fig.waiting = false;\n",
       "            return;\n",
       "        }\n",
       "        else if (typeof evt.data === 'string' && evt.data.slice(0, 21) == \"data:image/png;base64\") {\n",
       "            fig.imageObj.src = evt.data;\n",
       "            fig.updated_canvas_event();\n",
       "            fig.waiting = false;\n",
       "            return;\n",
       "        }\n",
       "\n",
       "        var msg = JSON.parse(evt.data);\n",
       "        var msg_type = msg['type'];\n",
       "\n",
       "        // Call the  \"handle_{type}\" callback, which takes\n",
       "        // the figure and JSON message as its only arguments.\n",
       "        try {\n",
       "            var callback = fig[\"handle_\" + msg_type];\n",
       "        } catch (e) {\n",
       "            console.log(\"No handler for the '\" + msg_type + \"' message type: \", msg);\n",
       "            return;\n",
       "        }\n",
       "\n",
       "        if (callback) {\n",
       "            try {\n",
       "                // console.log(\"Handling '\" + msg_type + \"' message: \", msg);\n",
       "                callback(fig, msg);\n",
       "            } catch (e) {\n",
       "                console.log(\"Exception inside the 'handler_\" + msg_type + \"' callback:\", e, e.stack, msg);\n",
       "            }\n",
       "        }\n",
       "    };\n",
       "}\n",
       "\n",
       "// from http://stackoverflow.com/questions/1114465/getting-mouse-location-in-canvas\n",
       "mpl.findpos = function(e) {\n",
       "    //this section is from http://www.quirksmode.org/js/events_properties.html\n",
       "    var targ;\n",
       "    if (!e)\n",
       "        e = window.event;\n",
       "    if (e.target)\n",
       "        targ = e.target;\n",
       "    else if (e.srcElement)\n",
       "        targ = e.srcElement;\n",
       "    if (targ.nodeType == 3) // defeat Safari bug\n",
       "        targ = targ.parentNode;\n",
       "\n",
       "    // jQuery normalizes the pageX and pageY\n",
       "    // pageX,Y are the mouse positions relative to the document\n",
       "    // offset() returns the position of the element relative to the document\n",
       "    var x = e.pageX - $(targ).offset().left;\n",
       "    var y = e.pageY - $(targ).offset().top;\n",
       "\n",
       "    return {\"x\": x, \"y\": y};\n",
       "};\n",
       "\n",
       "/*\n",
       " * return a copy of an object with only non-object keys\n",
       " * we need this to avoid circular references\n",
       " * http://stackoverflow.com/a/24161582/3208463\n",
       " */\n",
       "function simpleKeys (original) {\n",
       "  return Object.keys(original).reduce(function (obj, key) {\n",
       "    if (typeof original[key] !== 'object')\n",
       "        obj[key] = original[key]\n",
       "    return obj;\n",
       "  }, {});\n",
       "}\n",
       "\n",
       "mpl.figure.prototype.mouse_event = function(event, name) {\n",
       "    var canvas_pos = mpl.findpos(event)\n",
       "\n",
       "    if (name === 'button_press')\n",
       "    {\n",
       "        this.canvas.focus();\n",
       "        this.canvas_div.focus();\n",
       "    }\n",
       "\n",
       "    var x = canvas_pos.x * mpl.ratio;\n",
       "    var y = canvas_pos.y * mpl.ratio;\n",
       "\n",
       "    this.send_message(name, {x: x, y: y, button: event.button,\n",
       "                             step: event.step,\n",
       "                             guiEvent: simpleKeys(event)});\n",
       "\n",
       "    /* This prevents the web browser from automatically changing to\n",
       "     * the text insertion cursor when the button is pressed.  We want\n",
       "     * to control all of the cursor setting manually through the\n",
       "     * 'cursor' event from matplotlib */\n",
       "    event.preventDefault();\n",
       "    return false;\n",
       "}\n",
       "\n",
       "mpl.figure.prototype._key_event_extra = function(event, name) {\n",
       "    // Handle any extra behaviour associated with a key event\n",
       "}\n",
       "\n",
       "mpl.figure.prototype.key_event = function(event, name) {\n",
       "\n",
       "    // Prevent repeat events\n",
       "    if (name == 'key_press')\n",
       "    {\n",
       "        if (event.which === this._key)\n",
       "            return;\n",
       "        else\n",
       "            this._key = event.which;\n",
       "    }\n",
       "    if (name == 'key_release')\n",
       "        this._key = null;\n",
       "\n",
       "    var value = '';\n",
       "    if (event.ctrlKey && event.which != 17)\n",
       "        value += \"ctrl+\";\n",
       "    if (event.altKey && event.which != 18)\n",
       "        value += \"alt+\";\n",
       "    if (event.shiftKey && event.which != 16)\n",
       "        value += \"shift+\";\n",
       "\n",
       "    value += 'k';\n",
       "    value += event.which.toString();\n",
       "\n",
       "    this._key_event_extra(event, name);\n",
       "\n",
       "    this.send_message(name, {key: value,\n",
       "                             guiEvent: simpleKeys(event)});\n",
       "    return false;\n",
       "}\n",
       "\n",
       "mpl.figure.prototype.toolbar_button_onclick = function(name) {\n",
       "    if (name == 'download') {\n",
       "        this.handle_save(this, null);\n",
       "    } else {\n",
       "        this.send_message(\"toolbar_button\", {name: name});\n",
       "    }\n",
       "};\n",
       "\n",
       "mpl.figure.prototype.toolbar_button_onmouseover = function(tooltip) {\n",
       "    this.message.textContent = tooltip;\n",
       "};\n",
       "mpl.toolbar_items = [[\"Home\", \"Reset original view\", \"fa fa-home icon-home\", \"home\"], [\"Back\", \"Back to  previous view\", \"fa fa-arrow-left icon-arrow-left\", \"back\"], [\"Forward\", \"Forward to next view\", \"fa fa-arrow-right icon-arrow-right\", \"forward\"], [\"\", \"\", \"\", \"\"], [\"Pan\", \"Pan axes with left mouse, zoom with right\", \"fa fa-arrows icon-move\", \"pan\"], [\"Zoom\", \"Zoom to rectangle\", \"fa fa-square-o icon-check-empty\", \"zoom\"], [\"\", \"\", \"\", \"\"], [\"Download\", \"Download plot\", \"fa fa-floppy-o icon-save\", \"download\"]];\n",
       "\n",
       "mpl.extensions = [\"eps\", \"jpeg\", \"pdf\", \"png\", \"ps\", \"raw\", \"svg\", \"tif\"];\n",
       "\n",
       "mpl.default_extension = \"png\";var comm_websocket_adapter = function(comm) {\n",
       "    // Create a \"websocket\"-like object which calls the given IPython comm\n",
       "    // object with the appropriate methods. Currently this is a non binary\n",
       "    // socket, so there is still some room for performance tuning.\n",
       "    var ws = {};\n",
       "\n",
       "    ws.close = function() {\n",
       "        comm.close()\n",
       "    };\n",
       "    ws.send = function(m) {\n",
       "        //console.log('sending', m);\n",
       "        comm.send(m);\n",
       "    };\n",
       "    // Register the callback with on_msg.\n",
       "    comm.on_msg(function(msg) {\n",
       "        //console.log('receiving', msg['content']['data'], msg);\n",
       "        // Pass the mpl event to the overriden (by mpl) onmessage function.\n",
       "        ws.onmessage(msg['content']['data'])\n",
       "    });\n",
       "    return ws;\n",
       "}\n",
       "\n",
       "mpl.mpl_figure_comm = function(comm, msg) {\n",
       "    // This is the function which gets called when the mpl process\n",
       "    // starts-up an IPython Comm through the \"matplotlib\" channel.\n",
       "\n",
       "    var id = msg.content.data.id;\n",
       "    // Get hold of the div created by the display call when the Comm\n",
       "    // socket was opened in Python.\n",
       "    var element = $(\"#\" + id);\n",
       "    var ws_proxy = comm_websocket_adapter(comm)\n",
       "\n",
       "    function ondownload(figure, format) {\n",
       "        window.open(figure.imageObj.src);\n",
       "    }\n",
       "\n",
       "    var fig = new mpl.figure(id, ws_proxy,\n",
       "                           ondownload,\n",
       "                           element.get(0));\n",
       "\n",
       "    // Call onopen now - mpl needs it, as it is assuming we've passed it a real\n",
       "    // web socket which is closed, not our websocket->open comm proxy.\n",
       "    ws_proxy.onopen();\n",
       "\n",
       "    fig.parent_element = element.get(0);\n",
       "    fig.cell_info = mpl.find_output_cell(\"<div id='\" + id + \"'></div>\");\n",
       "    if (!fig.cell_info) {\n",
       "        console.error(\"Failed to find cell for figure\", id, fig);\n",
       "        return;\n",
       "    }\n",
       "\n",
       "    var output_index = fig.cell_info[2]\n",
       "    var cell = fig.cell_info[0];\n",
       "\n",
       "};\n",
       "\n",
       "mpl.figure.prototype.handle_close = function(fig, msg) {\n",
       "    var width = fig.canvas.width/mpl.ratio\n",
       "    fig.root.unbind('remove')\n",
       "\n",
       "    // Update the output cell to use the data from the current canvas.\n",
       "    fig.push_to_output();\n",
       "    var dataURL = fig.canvas.toDataURL();\n",
       "    // Re-enable the keyboard manager in IPython - without this line, in FF,\n",
       "    // the notebook keyboard shortcuts fail.\n",
       "    IPython.keyboard_manager.enable()\n",
       "    $(fig.parent_element).html('<img src=\"' + dataURL + '\" width=\"' + width + '\">');\n",
       "    fig.close_ws(fig, msg);\n",
       "}\n",
       "\n",
       "mpl.figure.prototype.close_ws = function(fig, msg){\n",
       "    fig.send_message('closing', msg);\n",
       "    // fig.ws.close()\n",
       "}\n",
       "\n",
       "mpl.figure.prototype.push_to_output = function(remove_interactive) {\n",
       "    // Turn the data on the canvas into data in the output cell.\n",
       "    var width = this.canvas.width/mpl.ratio\n",
       "    var dataURL = this.canvas.toDataURL();\n",
       "    this.cell_info[1]['text/html'] = '<img src=\"' + dataURL + '\" width=\"' + width + '\">';\n",
       "}\n",
       "\n",
       "mpl.figure.prototype.updated_canvas_event = function() {\n",
       "    // Tell IPython that the notebook contents must change.\n",
       "    IPython.notebook.set_dirty(true);\n",
       "    this.send_message(\"ack\", {});\n",
       "    var fig = this;\n",
       "    // Wait a second, then push the new image to the DOM so\n",
       "    // that it is saved nicely (might be nice to debounce this).\n",
       "    setTimeout(function () { fig.push_to_output() }, 1000);\n",
       "}\n",
       "\n",
       "mpl.figure.prototype._init_toolbar = function() {\n",
       "    var fig = this;\n",
       "\n",
       "    var nav_element = $('<div/>')\n",
       "    nav_element.attr('style', 'width: 100%');\n",
       "    this.root.append(nav_element);\n",
       "\n",
       "    // Define a callback function for later on.\n",
       "    function toolbar_event(event) {\n",
       "        return fig.toolbar_button_onclick(event['data']);\n",
       "    }\n",
       "    function toolbar_mouse_event(event) {\n",
       "        return fig.toolbar_button_onmouseover(event['data']);\n",
       "    }\n",
       "\n",
       "    for(var toolbar_ind in mpl.toolbar_items){\n",
       "        var name = mpl.toolbar_items[toolbar_ind][0];\n",
       "        var tooltip = mpl.toolbar_items[toolbar_ind][1];\n",
       "        var image = mpl.toolbar_items[toolbar_ind][2];\n",
       "        var method_name = mpl.toolbar_items[toolbar_ind][3];\n",
       "\n",
       "        if (!name) { continue; };\n",
       "\n",
       "        var button = $('<button class=\"btn btn-default\" href=\"#\" title=\"' + name + '\"><i class=\"fa ' + image + ' fa-lg\"></i></button>');\n",
       "        button.click(method_name, toolbar_event);\n",
       "        button.mouseover(tooltip, toolbar_mouse_event);\n",
       "        nav_element.append(button);\n",
       "    }\n",
       "\n",
       "    // Add the status bar.\n",
       "    var status_bar = $('<span class=\"mpl-message\" style=\"text-align:right; float: right;\"/>');\n",
       "    nav_element.append(status_bar);\n",
       "    this.message = status_bar[0];\n",
       "\n",
       "    // Add the close button to the window.\n",
       "    var buttongrp = $('<div class=\"btn-group inline pull-right\"></div>');\n",
       "    var button = $('<button class=\"btn btn-mini btn-primary\" href=\"#\" title=\"Stop Interaction\"><i class=\"fa fa-power-off icon-remove icon-large\"></i></button>');\n",
       "    button.click(function (evt) { fig.handle_close(fig, {}); } );\n",
       "    button.mouseover('Stop Interaction', toolbar_mouse_event);\n",
       "    buttongrp.append(button);\n",
       "    var titlebar = this.root.find($('.ui-dialog-titlebar'));\n",
       "    titlebar.prepend(buttongrp);\n",
       "}\n",
       "\n",
       "mpl.figure.prototype._root_extra_style = function(el){\n",
       "    var fig = this\n",
       "    el.on(\"remove\", function(){\n",
       "\tfig.close_ws(fig, {});\n",
       "    });\n",
       "}\n",
       "\n",
       "mpl.figure.prototype._canvas_extra_style = function(el){\n",
       "    // this is important to make the div 'focusable\n",
       "    el.attr('tabindex', 0)\n",
       "    // reach out to IPython and tell the keyboard manager to turn it's self\n",
       "    // off when our div gets focus\n",
       "\n",
       "    // location in version 3\n",
       "    if (IPython.notebook.keyboard_manager) {\n",
       "        IPython.notebook.keyboard_manager.register_events(el);\n",
       "    }\n",
       "    else {\n",
       "        // location in version 2\n",
       "        IPython.keyboard_manager.register_events(el);\n",
       "    }\n",
       "\n",
       "}\n",
       "\n",
       "mpl.figure.prototype._key_event_extra = function(event, name) {\n",
       "    var manager = IPython.notebook.keyboard_manager;\n",
       "    if (!manager)\n",
       "        manager = IPython.keyboard_manager;\n",
       "\n",
       "    // Check for shift+enter\n",
       "    if (event.shiftKey && event.which == 13) {\n",
       "        this.canvas_div.blur();\n",
       "        event.shiftKey = false;\n",
       "        // Send a \"J\" for go to next cell\n",
       "        event.which = 74;\n",
       "        event.keyCode = 74;\n",
       "        manager.command_mode();\n",
       "        manager.handle_keydown(event);\n",
       "    }\n",
       "}\n",
       "\n",
       "mpl.figure.prototype.handle_save = function(fig, msg) {\n",
       "    fig.ondownload(fig, null);\n",
       "}\n",
       "\n",
       "\n",
       "mpl.find_output_cell = function(html_output) {\n",
       "    // Return the cell and output element which can be found *uniquely* in the notebook.\n",
       "    // Note - this is a bit hacky, but it is done because the \"notebook_saving.Notebook\"\n",
       "    // IPython event is triggered only after the cells have been serialised, which for\n",
       "    // our purposes (turning an active figure into a static one), is too late.\n",
       "    var cells = IPython.notebook.get_cells();\n",
       "    var ncells = cells.length;\n",
       "    for (var i=0; i<ncells; i++) {\n",
       "        var cell = cells[i];\n",
       "        if (cell.cell_type === 'code'){\n",
       "            for (var j=0; j<cell.output_area.outputs.length; j++) {\n",
       "                var data = cell.output_area.outputs[j];\n",
       "                if (data.data) {\n",
       "                    // IPython >= 3 moved mimebundle to data attribute of output\n",
       "                    data = data.data;\n",
       "                }\n",
       "                if (data['text/html'] == html_output) {\n",
       "                    return [cell, data, j];\n",
       "                }\n",
       "            }\n",
       "        }\n",
       "    }\n",
       "}\n",
       "\n",
       "// Register the function which deals with the matplotlib target/channel.\n",
       "// The kernel may be null if the page has been refreshed.\n",
       "if (IPython.notebook.kernel != null) {\n",
       "    IPython.notebook.kernel.comm_manager.register_target('matplotlib', mpl.mpl_figure_comm);\n",
       "}\n"
      ],
      "text/plain": [
       "<IPython.core.display.Javascript object>"
      ]
     },
     "metadata": {},
     "output_type": "display_data"
    },
    {
     "data": {
      "text/html": [
       "<img src=\"data:image/png;base64,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\" width=\"640\">"
      ],
      "text/plain": [
       "<IPython.core.display.HTML object>"
      ]
     },
     "metadata": {},
     "output_type": "display_data"
    },
    {
     "data": {
      "text/plain": [
       "<matplotlib.image.AxesImage at 0x7fdfe9835f28>"
      ]
     },
     "execution_count": 26,
     "metadata": {},
     "output_type": "execute_result"
    }
   ],
   "source": [
    "plt.imshow(A.data, origin='lower')"
   ]
  },
  {
   "cell_type": "markdown",
   "metadata": {},
   "source": [
    "The FITS header keywords and comments are stored in the metadata of the `Array`:"
   ]
  },
  {
   "cell_type": "code",
   "execution_count": 27,
   "metadata": {},
   "outputs": [
    {
     "data": {
      "text/plain": [
       "{'': '=',\n",
       " 'BITPIX': -64,\n",
       " 'CAT_IDX': 1,\n",
       " 'CD1_1': 5.1026949964473e-21,\n",
       " 'CD1_2': 8.33333333333333e-05,\n",
       " 'CD2_1': -8.3333333333333e-05,\n",
       " 'CD2_2': 1.02053899928946e-20,\n",
       " 'CDELT1': 1.0,\n",
       " 'CDELT2': 1.0,\n",
       " 'CRPIX1': -12010.0,\n",
       " 'CRPIX2': 7835.0,\n",
       " 'CRVAL1': 150.3709536913,\n",
       " 'CRVAL2': 2.9252540558,\n",
       " 'CTYPE1': 'RA---TAN',\n",
       " 'CTYPE2': 'DEC--TAN',\n",
       " 'CUNIT1': 'deg',\n",
       " 'CUNIT2': 'deg',\n",
       " 'DATE': '2017-07-26T00:00:20',\n",
       " 'DEC_APER': 2.9252540558,\n",
       " 'EXPNAME': '_v1_CDR_d180515',\n",
       " 'EXPTIME': 560.0,\n",
       " 'EXTNAME': 'SCI',\n",
       " 'GCOUNT': 1,\n",
       " 'GORIENT': 90,\n",
       " 'LATPOLE': 2.9252540558,\n",
       " 'LONPOLE': 180.0,\n",
       " 'LTM1_1': 1.0,\n",
       " 'LTM2_2': 1.0,\n",
       " 'LTV1': 0.0,\n",
       " 'LTV2': 0.0,\n",
       " 'NAXIS': 2,\n",
       " 'NAXIS1': 524,\n",
       " 'NAXIS2': 30,\n",
       " 'ORIENTAT': 0.0,\n",
       " 'PA_APER': 0.0,\n",
       " 'PC1_1': 5.1026949964473e-21,\n",
       " 'PC1_2': 8.3333333333333e-05,\n",
       " 'PC2_1': -8.3333333333333e-05,\n",
       " 'PC2_2': 1.0205389992895e-20,\n",
       " 'PCOUNT': 0,\n",
       " 'RADESYS': 'ICRS',\n",
       " 'RA_APER': 150.3709536913,\n",
       " 'VAFACTOR': 1.0,\n",
       " 'WCSAXES': 2,\n",
       " 'XTENSION': 'IMAGE',\n",
       " 'doc': '',\n",
       " 'fits_comments': {'': '',\n",
       "  'BITPIX': 'array data type',\n",
       "  'CAT_IDX': '',\n",
       "  'CD1_1': 'partial of first axis coordinate w.r.t. x',\n",
       "  'CD1_2': 'partial of first axis coordinate w.r.t. y',\n",
       "  'CD2_1': 'partial of second axis coordinate w.r.t. x',\n",
       "  'CD2_2': 'partial of second axis coordinate w.r.t. y',\n",
       "  'CDELT1': '',\n",
       "  'CDELT2': '',\n",
       "  'CRPIX1': '',\n",
       "  'CRPIX2': '',\n",
       "  'CRVAL1': 'first axis value at reference pixel',\n",
       "  'CRVAL2': 'second axis value at reference pixel',\n",
       "  'CTYPE1': 'the coordinate type for the first axis',\n",
       "  'CTYPE2': 'the coordinate type for the second axis',\n",
       "  'CUNIT1': '',\n",
       "  'CUNIT2': '',\n",
       "  'DATE': 'file creation date (YYYY-MM-DDThh:mm:ss UT)',\n",
       "  'DEC_APER': 'Declination of aperture reference position',\n",
       "  'EXPNAME': 'exposure identifier',\n",
       "  'EXPTIME': '',\n",
       "  'EXTNAME': '',\n",
       "  'GCOUNT': 'number of groups',\n",
       "  'GORIENT': '',\n",
       "  'LATPOLE': '',\n",
       "  'LONPOLE': '',\n",
       "  'LTM1_1': 'reciprocal of sampling rate in X',\n",
       "  'LTM2_2': 'reciprocal of sampling rate in Y',\n",
       "  'LTV1': 'offset in X to subsection start',\n",
       "  'LTV2': 'offset in Y to subsection start',\n",
       "  'NAXIS': 'number of array dimensions',\n",
       "  'NAXIS1': '',\n",
       "  'NAXIS2': '',\n",
       "  'ORIENTAT': 'position angle of image y axis (deg. e of n)',\n",
       "  'PA_APER': 'Position Angle of reference aperture center (de',\n",
       "  'PC1_1': '',\n",
       "  'PC1_2': '',\n",
       "  'PC2_1': '',\n",
       "  'PC2_2': '',\n",
       "  'PCOUNT': 'number of parameters',\n",
       "  'RADESYS': '',\n",
       "  'RA_APER': 'RA of aperture reference position',\n",
       "  'VAFACTOR': 'velocity aberration plate scale factor',\n",
       "  'WCSAXES': 'number of World Coordinate System axes',\n",
       "  'XTENSION': 'Image extension'},\n",
       " 'ipython_history': '%pylab notebook\\nimport trieste as tr\\nfrom trieste import utils\\nimport astropy.io.fits as fits\\none = utils.fits_to_collection(\"one.fits\")\\ntwo = utils.fits_to_collection(\"two.fits\")\\nthree = utils.fits_to_collection(\"three.fits\")',\n",
       " 'name': 'SCI',\n",
       " 'ndim': 2,\n",
       " 'numpy_version': (1, 14, 1),\n",
       " 'python_version': (3, 6, 3),\n",
       " 'type': '2-D Array'}"
      ]
     },
     "execution_count": 27,
     "metadata": {},
     "output_type": "execute_result"
    }
   ],
   "source": [
    "A.metadata"
   ]
  },
  {
   "cell_type": "markdown",
   "metadata": {},
   "source": [
    "It is possible to unpack a Trieste `Collection` and convert it back into a multi-extension FITS file:"
   ]
  },
  {
   "cell_type": "code",
   "execution_count": 28,
   "metadata": {},
   "outputs": [],
   "source": [
    "hdulist_one = utils.collection_to_fits(one)"
   ]
  },
  {
   "cell_type": "code",
   "execution_count": 29,
   "metadata": {},
   "outputs": [
    {
     "name": "stdout",
     "output_type": "stream",
     "text": [
      "Filename: (No file associated with this HDUList)\n",
      "No.    Name      Ver    Type      Cards   Dimensions   Format\n",
      "  0  PRIMARY       1 PrimaryHDU       7   ()      \n",
      "  1  SCI           1 ImageHDU        45   (524, 30)   float64   \n",
      "  2  VAR           1 ImageHDU        45   (524, 30)   float64   \n",
      "  3  FLAG          1 ImageHDU        47   (524, 30)   uint64   \n"
     ]
    }
   ],
   "source": [
    "hdulist_one.info()"
   ]
  },
  {
   "cell_type": "code",
   "execution_count": null,
   "metadata": {},
   "outputs": [],
   "source": []
  }
 ],
 "metadata": {
  "kernelspec": {
   "display_name": "Python 3",
   "language": "python",
   "name": "python3"
  },
  "language_info": {
   "codemirror_mode": {
    "name": "ipython",
    "version": 3
   },
   "file_extension": ".py",
   "mimetype": "text/x-python",
   "name": "python",
   "nbconvert_exporter": "python",
   "pygments_lexer": "ipython3",
   "version": "3.6.3"
  }
 },
 "nbformat": 4,
 "nbformat_minor": 2
}
